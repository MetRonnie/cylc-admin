{
 "cells": [
  {
   "cell_type": "markdown",
   "metadata": {},
   "source": [
    "# Suite database viewer\n",
    "This notebook was created to capture common commands which may be useful to developers\n",
    "working on, or helping users with Cylc Suite databases.\n"
   ]
  },
  {
   "cell_type": "code",
   "execution_count": 105,
   "metadata": {},
   "outputs": [],
   "source": [
    "# Set the parameters of the suite whose database you want to investigate\n",
    "USER = \"jbloggs\"\n",
    "SUITENAME = \"simplest\"\n",
    "SUITE_FILE_GLOB_PATTERN = f\"/home/*/{USER}/cylc-run/{SUITENAME}/\"\n",
    "\n",
    "# Deliberately left blank before sharing\n",
    "SQLLITEPATH = \"/home/h02/tpilling/miniconda3/bin/sqlite3\""
   ]
  },
  {
   "cell_type": "code",
   "execution_count": 106,
   "metadata": {},
   "outputs": [
    {
     "data": {
      "text/markdown": [
       "---\n",
       "**NOTE**\n",
       "\n",
       "This cell contains boilerplate that mostly you don't need to see.\n",
       "It checks that the information you have given returns just 1 database file.\n",
       "\n",
       "\n",
       "<script>\n",
       "code_show=true;\n",
       "function code_toggle() {\n",
       "    if (code_show){\n",
       "        $('div.cell.code_cell.rendered.selected div.input').hide();\n",
       "    } else {\n",
       "      $('div.cell.code_cell.rendered.selected div.input').show();\n",
       "    }\n",
       "    code_show = !code_show\n",
       "}\n",
       "$( document ).ready(code_toggle);\n",
       "</script>\n",
       "To show/hide this cell's raw code input, click\n",
       "<a href=\"javascript:code_toggle()\">here</a>.\n",
       "\n",
       "\n",
       "---"
      ],
      "text/plain": [
       "<IPython.core.display.Markdown object>"
      ]
     },
     "metadata": {},
     "output_type": "display_data"
    },
    {
     "ename": "FileNotFoundError",
     "evalue": "\nthis username and suite name do not produce a unique answer.\nThe following files were found:\n[]",
     "output_type": "error",
     "traceback": [
      "\u001b[0;31m---------------------------------------------------------------------------\u001b[0m",
      "\u001b[0;31mFileNotFoundError\u001b[0m                         Traceback (most recent call last)",
      "\u001b[0;32m<ipython-input-106-5f1d094ab93f>\u001b[0m in \u001b[0;36m<module>\u001b[0;34m\u001b[0m\n\u001b[1;32m     50\u001b[0m         \u001b[0;34mf\"{SUITE_FOLDER}\"\u001b[0m\u001b[0;34m\u001b[0m\u001b[0;34m\u001b[0m\u001b[0m\n\u001b[1;32m     51\u001b[0m     )\n\u001b[0;32m---> 52\u001b[0;31m     \u001b[0;32mraise\u001b[0m \u001b[0mFileNotFoundError\u001b[0m\u001b[0;34m(\u001b[0m\u001b[0mmsg\u001b[0m\u001b[0;34m)\u001b[0m\u001b[0;34m\u001b[0m\u001b[0;34m\u001b[0m\u001b[0m\n\u001b[0m",
      "\u001b[0;31mFileNotFoundError\u001b[0m: \nthis username and suite name do not produce a unique answer.\nThe following files were found:\n[]"
     ]
    }
   ],
   "source": [
    "# This cell contains boilerplate to ensure that the database exists\n",
    "from IPython.core.display import HTML, display, Markdown\n",
    "from glob import glob\n",
    "\n",
    "def hide_cell(comment=''):\n",
    "    # Taken from https://stackoverflow.com/questions/31517194/\n",
    "    # how-to-hide-one-specific-cell-input-or-output-in-ipython-notebook\n",
    "    injecttxt = \"\"\"\n",
    "\n",
    "<script>\n",
    "code_show=true;\n",
    "function code_toggle() {\n",
    "    if (code_show){\n",
    "        $('div.cell.code_cell.rendered.selected div.input').hide();\n",
    "    } else {\n",
    "      $('div.cell.code_cell.rendered.selected div.input').show();\n",
    "    }\n",
    "    code_show = !code_show\n",
    "}\n",
    "$( document ).ready(code_toggle);\n",
    "</script>\n",
    "To show/hide this cell's raw code input, click\n",
    "<a href=\"javascript:code_toggle()\">here</a>.\n",
    "\"\"\"\n",
    "    injecttxt = comment + injecttxt + \"\\n\\n---\"\n",
    "\n",
    "    printm(injecttxt)\n",
    "    \n",
    "def printm(text):\n",
    "    display(Markdown(text))\n",
    "\n",
    "hide_cell(\n",
    "    \"\"\"---\n",
    "**NOTE**\n",
    "\n",
    "This cell contains boilerplate that mostly you don't need to see.\n",
    "It checks that the information you have given returns just 1 database file.\n",
    "\"\"\"\n",
    ")\n",
    "    \n",
    "SUITE_FOLDER=glob(SUITE_FILE_GLOB_PATTERN)\n",
    "if len(SUITE_FOLDER) == 1:\n",
    "    dbfile=f\"{SUITE_FOLDER[0]}log/db\"\n",
    "    printm(\"This is the datebase file we shall interrogate:\")\n",
    "    !ls -l $dbfile\n",
    "else:\n",
    "    msg = (\n",
    "        f\"\\nthis username and suite name do not produce a unique answer.\"\n",
    "        f\"\\nThe following files were found:\\n\"\n",
    "        f\"{SUITE_FOLDER}\"\n",
    "    )\n",
    "    raise FileNotFoundError(msg)\n"
   ]
  },
  {
   "cell_type": "markdown",
   "metadata": {},
   "source": [
    "## SQL introspection\n",
    "### Tables\n",
    "Firstly we can get a list of tables available..."
   ]
  },
  {
   "cell_type": "code",
   "execution_count": 95,
   "metadata": {},
   "outputs": [
    {
     "name": "stdout",
     "output_type": "stream",
     "text": [
      "broadcast_events              task_events                 \n",
      "broadcast_states              task_jobs                   \n",
      "broadcast_states_checkpoints  task_late_flags             \n",
      "checkpoint_id                 task_outputs                \n",
      "inheritance                   task_pool                   \n",
      "suite_params                  task_pool_checkpoints       \n",
      "suite_params_checkpoints      task_states                 \n",
      "suite_template_vars           task_timeout_timers         \n",
      "task_action_timers            xtriggers                   \n"
     ]
    }
   ],
   "source": [
    "%%script $SQLLITEPATH $dbfile\n",
    "\n",
    ". tables"
   ]
  },
  {
   "cell_type": "markdown",
   "metadata": {},
   "source": [
    "### Schema\n",
    "A good deal more info comes from the schema..."
   ]
  },
  {
   "cell_type": "code",
   "execution_count": 96,
   "metadata": {},
   "outputs": [],
   "source": [
    "%%capture N\n",
    "%%script $SQLLITEPATH  $dbfile\n",
    "\n",
    ". schema"
   ]
  },
  {
   "cell_type": "code",
   "execution_count": 97,
   "metadata": {},
   "outputs": [
    {
     "name": "stdout",
     "output_type": "stream",
     "text": [
      "CREATE TABLE suite_params(key TEXT, value TEXT, PRIMARY KEY(key)); \n",
      "\n",
      "CREATE TABLE task_jobs(cycle TEXT, name TEXT, submit_num INTEGER, is_manual_submit INTEGER, try_num INTEGER, time_submit TEXT, time_submit_exit TEXT, submit_status INTEGER, time_run TEXT, time_run_exit TEXT, run_signal TEXT, run_status INTEGER, user_at_host TEXT, batch_sys_name TEXT, batch_sys_job_id TEXT, PRIMARY KEY(cycle, name, submit_num)); \n",
      "\n",
      "CREATE TABLE task_late_flags(cycle TEXT, name TEXT, value INTEGER, PRIMARY KEY(cycle, name)); \n",
      "\n",
      "CREATE TABLE broadcast_states_checkpoints(id INTEGER, point TEXT, namespace TEXT, key TEXT, value TEXT, PRIMARY KEY(id, point, namespace, key)); \n",
      "\n",
      "CREATE TABLE checkpoint_id(id INTEGER, time TEXT, event TEXT, PRIMARY KEY(id)); \n",
      "\n",
      "CREATE TABLE inheritance(namespace TEXT, inheritance TEXT, PRIMARY KEY(namespace)); \n",
      "\n",
      "CREATE TABLE suite_params_checkpoints(id INTEGER, key TEXT, value TEXT, PRIMARY KEY(id, key)); \n",
      "\n",
      "CREATE TABLE task_pool_checkpoints(id INTEGER, cycle TEXT, name TEXT, spawned INTEGER, status TEXT, hold_swap TEXT, PRIMARY KEY(id, cycle, name)); \n",
      "\n",
      "CREATE TABLE task_outputs(cycle TEXT, name TEXT, outputs TEXT, PRIMARY KEY(cycle, name)); \n",
      "\n",
      "CREATE TABLE broadcast_states(point TEXT, namespace TEXT, key TEXT, value TEXT, PRIMARY KEY(point, namespace, key)); \n",
      "\n",
      "CREATE TABLE task_timeout_timers(cycle TEXT, name TEXT, timeout REAL, PRIMARY KEY(cycle, name)); \n",
      "\n",
      "CREATE TABLE task_states(name TEXT, cycle TEXT, time_created TEXT, time_updated TEXT, submit_num INTEGER, status TEXT, PRIMARY KEY(name, cycle)); \n",
      "\n",
      "CREATE TABLE broadcast_events(time TEXT, change TEXT, point TEXT, namespace TEXT, key TEXT, value TEXT); \n",
      "\n",
      "CREATE TABLE task_events(name TEXT, cycle TEXT, time TEXT, submit_num INTEGER, event TEXT, message TEXT); \n",
      "\n",
      "CREATE TABLE suite_template_vars(key TEXT, value TEXT, PRIMARY KEY(key)); \n",
      "\n",
      "CREATE TABLE task_pool(cycle TEXT, name TEXT, spawned INTEGER, status TEXT, hold_swap TEXT, PRIMARY KEY(cycle, name)); \n",
      "\n",
      "CREATE TABLE xtriggers(signature TEXT, results TEXT, PRIMARY KEY(signature)); \n",
      "\n",
      "CREATE TABLE task_action_timers(cycle TEXT, name TEXT, ctx_key TEXT, ctx TEXT, delays TEXT, num INTEGER, delay TEXT, timeout TEXT, PRIMARY KEY(cycle, name, ctx_key)); \n",
      "\n",
      " \n",
      "\n"
     ]
    }
   ],
   "source": [
    "for item in N.stdout.split('\\n'):\n",
    "    print(item, '\\n')"
   ]
  },
  {
   "cell_type": "markdown",
   "metadata": {},
   "source": [
    "## Diving into the data\n",
    "We should now have enough information about the data to start looking in detail at what the database contains:"
   ]
  },
  {
   "cell_type": "code",
   "execution_count": 107,
   "metadata": {},
   "outputs": [
    {
     "name": "stdout",
     "output_type": "stream",
     "text": [
      "19831213T0600Z|Quokka|vld398.cmpd1.metoffice.gov.uk|background\n",
      "19831213T0600Z|Numbat|vld398.cmpd1.metoffice.gov.uk|background\n",
      "19831213T0600Z|Wambenger|vld398.cmpd1.metoffice.gov.uk|background\n",
      "19831213T0700Z|Quokka|vld398.cmpd1.metoffice.gov.uk|background\n",
      "19831213T0700Z|Numbat|vld398.cmpd1.metoffice.gov.uk|background\n",
      "19831213T0700Z|Wambenger|vld398.cmpd1.metoffice.gov.uk|background\n",
      "19831213T0800Z|Quokka|vld398.cmpd1.metoffice.gov.uk|background\n",
      "19831213T0800Z|Numbat|vld398.cmpd1.metoffice.gov.uk|background\n",
      "19831213T0800Z|Wambenger|vld398.cmpd1.metoffice.gov.uk|background\n",
      "19831213T0900Z|Quokka|vld398.cmpd1.metoffice.gov.uk|background\n"
     ]
    }
   ],
   "source": [
    "%%script $SQLLITEPATH $dbfile\n",
    "\n",
    "SELECT cycle, name,user_at_host, batch_sys_name from task_jobs \n",
    "LIMIT 10"
   ]
  },
  {
   "cell_type": "markdown",
   "metadata": {},
   "source": [
    "... or, if you want to be really fancy this sort of thing will give you a nicely formatted pandas\n",
    "table"
   ]
  },
  {
   "cell_type": "code",
   "execution_count": 102,
   "metadata": {},
   "outputs": [],
   "source": [
    "%%capture M\n",
    "%%script $SQLLITEPATH $dbfile\n",
    "\n",
    "SELECT cycle, name, user_at_host, batch_sys_name from task_jobs \n",
    "LIMIT 10"
   ]
  },
  {
   "cell_type": "code",
   "execution_count": 103,
   "metadata": {},
   "outputs": [
    {
     "data": {
      "text/html": [
       "<div>\n",
       "<style scoped>\n",
       "    .dataframe tbody tr th:only-of-type {\n",
       "        vertical-align: middle;\n",
       "    }\n",
       "\n",
       "    .dataframe tbody tr th {\n",
       "        vertical-align: top;\n",
       "    }\n",
       "\n",
       "    .dataframe thead th {\n",
       "        text-align: right;\n",
       "    }\n",
       "</style>\n",
       "<table border=\"1\" class=\"dataframe\">\n",
       "  <thead>\n",
       "    <tr style=\"text-align: right;\">\n",
       "      <th></th>\n",
       "      <th>cycle</th>\n",
       "      <th>name</th>\n",
       "      <th>user_at_host</th>\n",
       "      <th>batch_sys_name</th>\n",
       "    </tr>\n",
       "  </thead>\n",
       "  <tbody>\n",
       "    <tr>\n",
       "      <th>0</th>\n",
       "      <td>19831213T0600Z</td>\n",
       "      <td>Quokka</td>\n",
       "      <td>vld398.cmpd1.metoffice.gov.uk</td>\n",
       "      <td>background</td>\n",
       "    </tr>\n",
       "    <tr>\n",
       "      <th>1</th>\n",
       "      <td>19831213T0600Z</td>\n",
       "      <td>Numbat</td>\n",
       "      <td>vld398.cmpd1.metoffice.gov.uk</td>\n",
       "      <td>background</td>\n",
       "    </tr>\n",
       "    <tr>\n",
       "      <th>2</th>\n",
       "      <td>19831213T0600Z</td>\n",
       "      <td>Wambenger</td>\n",
       "      <td>vld398.cmpd1.metoffice.gov.uk</td>\n",
       "      <td>background</td>\n",
       "    </tr>\n",
       "    <tr>\n",
       "      <th>3</th>\n",
       "      <td>19831213T0700Z</td>\n",
       "      <td>Quokka</td>\n",
       "      <td>vld398.cmpd1.metoffice.gov.uk</td>\n",
       "      <td>background</td>\n",
       "    </tr>\n",
       "    <tr>\n",
       "      <th>4</th>\n",
       "      <td>19831213T0700Z</td>\n",
       "      <td>Numbat</td>\n",
       "      <td>vld398.cmpd1.metoffice.gov.uk</td>\n",
       "      <td>background</td>\n",
       "    </tr>\n",
       "    <tr>\n",
       "      <th>5</th>\n",
       "      <td>19831213T0700Z</td>\n",
       "      <td>Wambenger</td>\n",
       "      <td>vld398.cmpd1.metoffice.gov.uk</td>\n",
       "      <td>background</td>\n",
       "    </tr>\n",
       "    <tr>\n",
       "      <th>6</th>\n",
       "      <td>19831213T0800Z</td>\n",
       "      <td>Quokka</td>\n",
       "      <td>vld398.cmpd1.metoffice.gov.uk</td>\n",
       "      <td>background</td>\n",
       "    </tr>\n",
       "    <tr>\n",
       "      <th>7</th>\n",
       "      <td>19831213T0800Z</td>\n",
       "      <td>Numbat</td>\n",
       "      <td>vld398.cmpd1.metoffice.gov.uk</td>\n",
       "      <td>background</td>\n",
       "    </tr>\n",
       "    <tr>\n",
       "      <th>8</th>\n",
       "      <td>19831213T0800Z</td>\n",
       "      <td>Wambenger</td>\n",
       "      <td>vld398.cmpd1.metoffice.gov.uk</td>\n",
       "      <td>background</td>\n",
       "    </tr>\n",
       "    <tr>\n",
       "      <th>9</th>\n",
       "      <td>19831213T0900Z</td>\n",
       "      <td>Quokka</td>\n",
       "      <td>vld398.cmpd1.metoffice.gov.uk</td>\n",
       "      <td>background</td>\n",
       "    </tr>\n",
       "  </tbody>\n",
       "</table>\n",
       "</div>"
      ],
      "text/plain": [
       "            cycle       name                   user_at_host batch_sys_name\n",
       "0  19831213T0600Z     Quokka  vld398.cmpd1.metoffice.gov.uk     background\n",
       "1  19831213T0600Z     Numbat  vld398.cmpd1.metoffice.gov.uk     background\n",
       "2  19831213T0600Z  Wambenger  vld398.cmpd1.metoffice.gov.uk     background\n",
       "3  19831213T0700Z     Quokka  vld398.cmpd1.metoffice.gov.uk     background\n",
       "4  19831213T0700Z     Numbat  vld398.cmpd1.metoffice.gov.uk     background\n",
       "5  19831213T0700Z  Wambenger  vld398.cmpd1.metoffice.gov.uk     background\n",
       "6  19831213T0800Z     Quokka  vld398.cmpd1.metoffice.gov.uk     background\n",
       "7  19831213T0800Z     Numbat  vld398.cmpd1.metoffice.gov.uk     background\n",
       "8  19831213T0800Z  Wambenger  vld398.cmpd1.metoffice.gov.uk     background\n",
       "9  19831213T0900Z     Quokka  vld398.cmpd1.metoffice.gov.uk     background"
      ]
     },
     "execution_count": 103,
     "metadata": {},
     "output_type": "execute_result"
    }
   ],
   "source": [
    "from io import StringIO\n",
    "pd.read_csv(\n",
    "    StringIO(M.stdout),\n",
    "    sep=\"|\",\n",
    "    index_col=False,\n",
    "    names=[\n",
    "        \"cycle\", \n",
    "        \"name\", \n",
    "        \"user_at_host\", \n",
    "        \"batch_sys_name\"\n",
    "    ]\n",
    ")"
   ]
  },
  {
   "cell_type": "code",
   "execution_count": null,
   "metadata": {},
   "outputs": [],
   "source": []
  }
 ],
 "metadata": {
  "kernelspec": {
   "display_name": "Python 3",
   "language": "python",
   "name": "python3"
  },
  "language_info": {
   "codemirror_mode": {
    "name": "ipython",
    "version": 3
   },
   "file_extension": ".py",
   "mimetype": "text/x-python",
   "name": "python",
   "nbconvert_exporter": "python",
   "pygments_lexer": "ipython3",
   "version": "3.7.5"
  }
 },
 "nbformat": 4,
 "nbformat_minor": 2
}
