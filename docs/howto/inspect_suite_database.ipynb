{
 "cells": [
  {
   "cell_type": "markdown",
   "metadata": {},
   "source": [
    "# Suite database viewer\n",
    "This notebook was created to capture common commands which may be useful to developers\n",
    "working on, or helping users with Cylc Suite databases.\n"
   ]
  },
  {
   "cell_type": "code",
   "execution_count": null,
   "metadata": {},
   "outputs": [],
   "source": [
    "# Set the parameters of the suite whose database you want to investigate\n",
    "import os\n",
    "USER = \"jbloggs\"\n",
    "SUITENAME = \"simplest\"\n",
    "HOMEDIR = os.getenv('HOME')\n",
    "SUITE_FILE_GLOB_PATTERN = f\"{HOMEDIR}/cylc-run/{SUITENAME}/\"\n",
    "\n",
    "# Deliberately left blank before sharing\n",
    "SQLLITEPATH = \"\"\n",
    "print(SUITE_FILE_GLOB_PATTERN)"
   ]
  },
  {
   "cell_type": "code",
   "execution_count": null,
   "metadata": {},
   "outputs": [],
   "source": [
    "# This cell contains boilerplate to ensure that the database exists\n",
    "from IPython.core.display import HTML, display, Markdown\n",
    "from glob import glob\n",
    "    \n",
    "def printm(text):\n",
    "    display(Markdown(text))\n",
    "    \n",
    "SUITE_FOLDER=glob(SUITE_FILE_GLOB_PATTERN)\n",
    "if len(SUITE_FOLDER) == 1:\n",
    "    dbfile=f\"{SUITE_FOLDER[0]}log/db\"\n",
    "    printm(\"This is the datebase file we shall interrogate:\")\n",
    "    !ls -l $dbfile\n",
    "else:\n",
    "    msg = (\n",
    "        f\"\\nthis username and suite name do not produce a unique answer.\"\n",
    "        f\"\\nThe following files were found:\\n\"\n",
    "        f\"{SUITE_FOLDER}\"\n",
    "    )\n",
    "    raise FileNotFoundError(msg)\n"
   ]
  },
  {
   "cell_type": "markdown",
   "metadata": {},
   "source": [
    "## SQL introspection\n",
    "### Tables\n",
    "Firstly we can get a list of tables available..."
   ]
  },
  {
   "cell_type": "code",
   "execution_count": null,
   "metadata": {},
   "outputs": [],
   "source": [
    "%%script $SQLLITEPATH $dbfile\n",
    "\n",
    ". tables"
   ]
  },
  {
   "cell_type": "markdown",
   "metadata": {},
   "source": [
    "### Schema\n",
    "A good deal more info comes from the schema..."
   ]
  },
  {
   "cell_type": "code",
   "execution_count": null,
   "metadata": {},
   "outputs": [],
   "source": [
    "%%capture N\n",
    "%%script $SQLLITEPATH  $dbfile\n",
    "\n",
    ". schema"
   ]
  },
  {
   "cell_type": "code",
   "execution_count": null,
   "metadata": {},
   "outputs": [],
   "source": [
    "for item in N.stdout.split('\\n'):\n",
    "    print(item, '\\n')"
   ]
  },
  {
   "cell_type": "markdown",
   "metadata": {},
   "source": [
    "## Diving into the data\n",
    "We should now have enough information about the data to start looking in detail at what the database contains:"
   ]
  },
  {
   "cell_type": "code",
   "execution_count": null,
   "metadata": {},
   "outputs": [],
   "source": [
    "%%script $SQLLITEPATH $dbfile\n",
    "\n",
    "SELECT cycle, name,user_at_host, batch_sys_name from task_jobs \n",
    "LIMIT 10"
   ]
  },
  {
   "cell_type": "markdown",
   "metadata": {},
   "source": [
    "... or, if you want to be really fancy this sort of thing will give you a nicely formatted pandas\n",
    "table"
   ]
  },
  {
   "cell_type": "code",
   "execution_count": null,
   "metadata": {},
   "outputs": [],
   "source": [
    "%%capture M\n",
    "%%script $SQLLITEPATH $dbfile\n",
    "\n",
    "SELECT cycle, name, user_at_host, batch_sys_name from task_jobs \n",
    "LIMIT 10"
   ]
  },
  {
   "cell_type": "code",
   "execution_count": null,
   "metadata": {},
   "outputs": [],
   "source": [
    "from io import StringIO\n",
    "import pandas\n",
    "pandas.read_csv(\n",
    "    StringIO(M.stdout),\n",
    "    sep=\"|\",\n",
    "    index_col=False,\n",
    "    names=[\n",
    "        \"cycle\", \n",
    "        \"name\", \n",
    "        \"user_at_host\", \n",
    "        \"batch_sys_name\"\n",
    "    ]\n",
    ")"
   ]
  }
 ],
 "metadata": {
  "kernelspec": {
   "display_name": "Python 3",
   "language": "python",
   "name": "python3"
  },
  "language_info": {
   "codemirror_mode": {
    "name": "ipython",
    "version": 3
   },
   "file_extension": ".py",
   "mimetype": "text/x-python",
   "name": "python",
   "nbconvert_exporter": "python",
   "pygments_lexer": "ipython3",
   "version": "3.7.5"
  }
 },
 "nbformat": 4,
 "nbformat_minor": 2
}
